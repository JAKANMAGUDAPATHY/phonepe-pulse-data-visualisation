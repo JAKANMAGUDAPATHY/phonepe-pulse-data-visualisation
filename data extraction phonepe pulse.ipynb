{
 "cells": [
  {
   "cell_type": "markdown",
   "id": "063c4384",
   "metadata": {},
   "source": [
    "IMPORTING NEEDED LIBRARIES"
   ]
  },
  {
   "cell_type": "code",
   "execution_count": null,
   "id": "584e070a",
   "metadata": {},
   "outputs": [],
   "source": [
    "import pandas as pd\n",
    "import os\n",
    "import subprocess\n",
    "import json\n",
    "import streamlit as st\n",
    "import mysql.connector as sql\n",
    "import plotly.express  as px\n",
    "import plotly.graph_objects as go\n",
    "from plotly.subplots import make_subplots"
   ]
  },
  {
   "cell_type": "markdown",
   "id": "71571a28",
   "metadata": {},
   "source": [
    "EXTRACTING DATA FROM PHONEPE PULSE REPOSITRY"
   ]
  },
  {
   "cell_type": "code",
   "execution_count": null,
   "id": "3603b04e",
   "metadata": {},
   "outputs": [],
   "source": [
    "repo_url = 'https://github.com/phonepe/pulse.git'\n",
    "destination_dir = r'C:\\Users\\JAKAN MAGUDAPATHY\\Desktop\\GUVI\\datasets\\phonepe pulse'\n",
    "subprocess.run(['git', 'clone', repo_url, destination_dir])\n"
   ]
  },
  {
   "cell_type": "markdown",
   "id": "3cf22c56",
   "metadata": {},
   "source": [
    "AGGREGATED TRANSCATIONS"
   ]
  },
  {
   "cell_type": "code",
   "execution_count": null,
   "id": "7bde8d5c",
   "metadata": {
    "scrolled": true
   },
   "outputs": [],
   "source": [
    "up2country=r'C:\\Users\\JAKAN MAGUDAPATHY\\Desktop\\GUVI\\datasets\\phonepe pulse\\data\\aggregated\\transaction\\country\\india\\state'\n",
    "table1={'state':[],'year':[],'quarter':[],'transactiontype':[],'transactioncount':[],'transactionamount':[]}\n",
    "for file1 in os.listdir(up2country):\n",
    "    up2state=os.path.join(up2country,file1)\n",
    "    for file2 in os.listdir(up2state):\n",
    "        up2year=os.path.join(up2state,file2)\n",
    "        for file3 in os.listdir(up2year):\n",
    "            up2quarter=os.path.join(up2year,file3)\n",
    "            with open(up2quarter,'r') as file:\n",
    "                aggtr=json.load(file)\n",
    "                for i in aggtr['data']['transactionData']:\n",
    "                    table1['state'].append(file1)\n",
    "                    table1['year'].append(file2)\n",
    "                    table1['quarter'].append(int(file3.strip('.json')))\n",
    "                    table1['transactiontype'].append(i['name'])\n",
    "                    table1['transactioncount'].append(i['paymentInstruments'][0]['count'])\n",
    "                    table1['transactionamount'].append(i['paymentInstruments'][0]['amount'])\n",
    "aggtr=pd.DataFrame(table1)\n",
    "print(aggtr)\n",
    "                \n",
    "                \n",
    "            \n",
    "            \n",
    "        \n",
    "            \n",
    "    "
   ]
  },
  {
   "cell_type": "markdown",
   "id": "f9109774",
   "metadata": {},
   "source": [
    "AGGREGATED USER"
   ]
  },
  {
   "cell_type": "code",
   "execution_count": null,
   "id": "ffc21dee",
   "metadata": {},
   "outputs": [],
   "source": [
    "up2country = r'C:\\Users\\JAKAN MAGUDAPATHY\\Desktop\\GUVI\\datasets\\phonepe pulse\\data\\aggregated\\user\\country\\india\\state'\n",
    "table2 = {'state': [], 'year': [], 'quarter': [], 'brand': [], 'transactioncount': [], 'percentageshare': []}\n",
    "\n",
    "for file1 in os.listdir(up2country):\n",
    "    up2state = os.path.join(up2country, file1)\n",
    "    for file2 in os.listdir(up2state):\n",
    "        up2year = os.path.join(up2state, file2)\n",
    "        for file3 in os.listdir(up2year):\n",
    "            up2quarter = os.path.join(up2year, file3)\n",
    "            try:\n",
    "                with open(up2quarter, 'r') as file:\n",
    "                    agguser = json.load(file)\n",
    "                    #print(agguser)  # Check the loaded JSON data\n",
    "                    if 'data' in agguser and 'usersByDevice' in agguser['data']:\n",
    "                        if isinstance(agguser['data']['usersByDevice'], list):\n",
    "                            for i in agguser['data']['usersByDevice']:\n",
    "                                table2['state'].append(file1)\n",
    "                                table2['year'].append(file2)\n",
    "                                table2['quarter'].append(int(file3.strip('.json')))\n",
    "                                table2['brand'].append(i['brand'])\n",
    "                                table2['transactioncount'].append(i['count'])\n",
    "                                table2['percentageshare'].append(i['percentage'])\n",
    "                       # else:\n",
    "                           # print(f\"Invalid 'usersByDevice' structure in file: {up2quarter}\")\n",
    "                    else:\n",
    "                        print(f\"Missing 'data' or 'usersByDevice' in file: {up2quarter}\")\n",
    "            except json.JSONDecodeError as e:\n",
    "                print(f\"Error loading JSON from file: {up2quarter}\")\n",
    "                print(e)\n",
    "                continue\n",
    "\n",
    "agguser = pd.DataFrame(table2)\n",
    "print(agguser)\n"
   ]
  },
  {
   "cell_type": "raw",
   "id": "a1dd40ea",
   "metadata": {},
   "source": [
    "MAP TRANSACTION"
   ]
  },
  {
   "cell_type": "code",
   "execution_count": null,
   "id": "8eacd50e",
   "metadata": {},
   "outputs": [],
   "source": [
    "up2country3=r'C:\\Users\\JAKAN MAGUDAPATHY\\Desktop\\GUVI\\datasets\\phonepe pulse\\data\\map\\transaction\\hover\\country\\india\\state'\n",
    "table3={'state':[],'year':[],'quarter':[],'District':[],'transactioncount':[],'transactionamount':[]}\n",
    "for file1 in os.listdir(up2country3):\n",
    "    up2state=os.path.join(up2country3,file1)\n",
    "    for file2 in os.listdir(up2state):\n",
    "        up2year=os.path.join(up2state,file2)\n",
    "        for file3 in os.listdir(up2year):\n",
    "            up2quarter=os.path.join(up2year,file3)\n",
    "            with open(up2quarter,'r') as file:\n",
    "                maptr=json.load(file)\n",
    "                for i in maptr['data']['hoverDataList']:\n",
    "                            table3['state'].append(file1)\n",
    "                            table3['year'].append(file2)\n",
    "                            table3['quarter'].append(int(file3.strip('.json')))\n",
    "                            table3['District'].append(i['name'])\n",
    "                            table3['transactioncount'].append(i['metric'][0]['count'])\n",
    "                            table3['transactionamount'].append(i['metric'][0]['amount'])\n",
    "                \n",
    "            \n",
    "maptr=pd.DataFrame(table3)\n",
    "print(maptr)\n",
    "                "
   ]
  },
  {
   "cell_type": "markdown",
   "id": "020b8718",
   "metadata": {},
   "source": [
    "MAP USERS"
   ]
  },
  {
   "cell_type": "code",
   "execution_count": null,
   "id": "26e3ddab",
   "metadata": {},
   "outputs": [],
   "source": [
    "up2country4=r'C:\\Users\\JAKAN MAGUDAPATHY\\Desktop\\GUVI\\datasets\\phonepe pulse\\data\\map\\user\\hover\\country\\india\\state'\n",
    "table4={'state':[],'year':[],'quarter':[],'District':[],'Registeredusers':[],'Appopens':[]}\n",
    "for file1 in os.listdir(up2country4):\n",
    "    up2state=os.path.join(up2country4,file1)\n",
    "    for file2 in os.listdir(up2state):\n",
    "        up2year=os.path.join(up2state,file2)\n",
    "        for file3 in os.listdir(up2year):\n",
    "            up2quarter=os.path.join(up2year,file3)\n",
    "            with open(up2quarter,'r') as file:\n",
    "                mapuser=json.load(file)\n",
    "                for i in mapuser['data']['hoverData'].items():\n",
    "                            table4['state'].append(file1)\n",
    "                            table4['year'].append(file2)\n",
    "                            table4['quarter'].append(int(file3.strip('.json')))\n",
    "                            table4['District'].append(i[0])\n",
    "                            table4['Registeredusers'].append(i[1]['registeredUsers'])\n",
    "                            table4['Appopens'].append(i[1]['appOpens'])\n",
    "                            \n",
    "                            \n",
    "                \n",
    "            \n",
    "mapuser=pd.DataFrame(table4)\n",
    "print(mapuser)"
   ]
  },
  {
   "cell_type": "markdown",
   "id": "ee76dbf5",
   "metadata": {},
   "source": [
    "TOP TRANSACTIONS"
   ]
  },
  {
   "cell_type": "code",
   "execution_count": null,
   "id": "f0ea519c",
   "metadata": {},
   "outputs": [],
   "source": [
    "up2country5=r'C:\\Users\\JAKAN MAGUDAPATHY\\Desktop\\GUVI\\datasets\\phonepe pulse\\data\\top\\transaction\\country\\india\\state'\n",
    "table5={'state':[],'year':[],'quarter':[],'Pincode':[],'transactioncount':[],'transactionamount':[]}\n",
    "for file1 in os.listdir(up2country5):\n",
    "    up2state=os.path.join(up2country5,file1)\n",
    "    for file2 in os.listdir(up2state):\n",
    "        up2year=os.path.join(up2state,file2)\n",
    "        for file3 in os.listdir(up2year):\n",
    "            up2quarter=os.path.join(up2year,file3)\n",
    "            with open(up2quarter,'r') as file:\n",
    "                toptr=json.load(file)\n",
    "                for i in toptr['data']['pincodes']:\n",
    "                            table5['state'].append(file1)\n",
    "                            table5['year'].append(file2)\n",
    "                            table5['quarter'].append(int(file3.strip('.json')))\n",
    "                            table5['Pincode'].append(i['entityName'])\n",
    "                            table5['transactioncount'].append(i['metric']['count'])\n",
    "                            table5['transactionamount'].append(i['metric']['amount'])\n",
    "                            \n",
    "                            \n",
    "                \n",
    "            \n",
    "toptr=pd.DataFrame(table5)\n",
    "print(toptr)"
   ]
  },
  {
   "cell_type": "code",
   "execution_count": null,
   "id": "aff547ce",
   "metadata": {},
   "outputs": [],
   "source": [
    "TOP TRANSACTIONS (IMPORTANT CITIES)"
   ]
  },
  {
   "cell_type": "code",
   "execution_count": null,
   "id": "04292b25",
   "metadata": {},
   "outputs": [],
   "source": [
    "up2country5=r'C:\\Users\\JAKAN MAGUDAPATHY\\Desktop\\GUVI\\datasets\\phonepe pulse\\data\\top\\transaction\\country\\india\\state'\n",
    "table6={'state':[],'year':[],'quarter':[],'Primecities':[],'transactioncount':[],'transactionamount':[]}\n",
    "for file1 in os.listdir(up2country5):\n",
    "    up2state=os.path.join(up2country5,file1)\n",
    "    for file2 in os.listdir(up2state):\n",
    "        up2year=os.path.join(up2state,file2)\n",
    "        for file3 in os.listdir(up2year):\n",
    "            up2quarter=os.path.join(up2year,file3)\n",
    "            with open(up2quarter,'r') as file:\n",
    "                toptrcity=json.load(file)\n",
    "                for i in toptrcity['data']['districts']:\n",
    "                            table6['state'].append(file1)\n",
    "                            table6['year'].append(file2)\n",
    "                            table6['quarter'].append(int(file3.strip('.json')))\n",
    "                            table6['Primecities'].append(i['entityName'])\n",
    "                            table6['transactioncount'].append(i['metric']['count'])\n",
    "                            table6['transactionamount'].append(i['metric']['amount'])\n",
    "                            \n",
    "                            \n",
    "                \n",
    "            \n",
    "toptrcity=pd.DataFrame(table6)\n",
    "print(toptrcity)"
   ]
  },
  {
   "cell_type": "markdown",
   "id": "eff806e3",
   "metadata": {},
   "source": [
    "TOP USERS"
   ]
  },
  {
   "cell_type": "code",
   "execution_count": null,
   "id": "d74892d1",
   "metadata": {},
   "outputs": [],
   "source": [
    "up2country6=r'C:\\Users\\JAKAN MAGUDAPATHY\\Desktop\\GUVI\\datasets\\phonepe pulse\\data\\top\\user\\country\\india\\state'\n",
    "table7={'state':[],'year':[],'quarter':[],'Pincode':[],'Registeredusers':[]}\n",
    "for file1 in os.listdir(up2country6):\n",
    "    up2state=os.path.join(up2country6,file1)\n",
    "    for file2 in os.listdir(up2state):\n",
    "        up2year=os.path.join(up2state,file2)\n",
    "        for file3 in os.listdir(up2year):\n",
    "            up2quarter=os.path.join(up2year,file3)\n",
    "            with open(up2quarter,'r') as file:\n",
    "                topuser=json.load(file)\n",
    "                for i in topuser['data']['pincodes']:\n",
    "                            table7['state'].append(file1)\n",
    "                            table7['year'].append(file2)\n",
    "                            table7['quarter'].append(int(file3.strip('.json')))\n",
    "                            table7['Pincode'].append(i['name'])\n",
    "                            table7['Registeredusers'].append(i['registeredUsers'])\n",
    "                        \n",
    "                            \n",
    "                            \n",
    "                \n",
    "            \n",
    "topuser=pd.DataFrame(table7)\n",
    "print(topuser)"
   ]
  },
  {
   "cell_type": "code",
   "execution_count": null,
   "id": "a878094e",
   "metadata": {},
   "outputs": [],
   "source": [
    "TOP USERS(IMPORTANT CITIES)"
   ]
  },
  {
   "cell_type": "code",
   "execution_count": null,
   "id": "c17a4d35",
   "metadata": {},
   "outputs": [],
   "source": [
    "up2country6=r'C:\\Users\\JAKAN MAGUDAPATHY\\Desktop\\GUVI\\datasets\\phonepe pulse\\data\\top\\user\\country\\india\\state'\n",
    "table8={'state':[],'year':[],'quarter':[],'Primecities':[],'Registeredusers':[]}\n",
    "for file1 in os.listdir(up2country6):\n",
    "    up2state=os.path.join(up2country6,file1)\n",
    "    for file2 in os.listdir(up2state):\n",
    "        up2year=os.path.join(up2state,file2)\n",
    "        for file3 in os.listdir(up2year):\n",
    "            up2quarter=os.path.join(up2year,file3)\n",
    "            with open(up2quarter,'r') as file:\n",
    "                topusercity=json.load(file)\n",
    "                for i in topusercity['data']['districts']:\n",
    "                            table8['state'].append(file1)\n",
    "                            table8['year'].append(file2)\n",
    "                            table8['quarter'].append(int(file3.strip('.json')))\n",
    "                            table8['Primecities'].append(i['name'])\n",
    "                            table8['Registeredusers'].append(i['registeredUsers'])\n",
    "                        \n",
    "                            \n",
    "                            \n",
    "                \n",
    "            \n",
    "topusercity=pd.DataFrame(table8)\n",
    "print(topusercity)"
   ]
  },
  {
   "cell_type": "markdown",
   "id": "c8c4293d",
   "metadata": {},
   "source": [
    "CONVERTING DATAFRAMES INTO CSV FILES"
   ]
  },
  {
   "cell_type": "code",
   "execution_count": null,
   "id": "4a07b3bb",
   "metadata": {},
   "outputs": [],
   "source": [
    "aggtr.to_csv('aggtr.csv',index=False)\n",
    "agguser.to_csv('agguser.csv',index=False)\n",
    "maptr.to_csv('maptr.csv',index=False)\n",
    "mapuser.to_csv('mapuser.csv',index=False)\n",
    "toptr.to_csv('toptr.csv',index=False)\n",
    "toptrcity.to_csv('toptrcity.csv',index=False)\n",
    "topuser.to_csv('topuser.csv',index=False)\n",
    "topusercity.to_csv('topusercity.csv',index=False)"
   ]
  },
  {
   "cell_type": "markdown",
   "id": "1288ffbd",
   "metadata": {},
   "source": [
    "ESRABLISHING CONNECTION WITH MYSQL"
   ]
  },
  {
   "cell_type": "code",
   "execution_count": null,
   "id": "dff18a76",
   "metadata": {},
   "outputs": [],
   "source": [
    "mydb = sql.connect(host=\"localhost\",\n",
    "                   user=\"root\",\n",
    "                   password=\"Jakan1997@\",\n",
    "                   database= \"phonepepulse\"\n",
    "                  )\n",
    "mycursor = mydb.cursor()"
   ]
  },
  {
   "cell_type": "markdown",
   "id": "fba2baed",
   "metadata": {},
   "source": [
    "AGGREAGATED  TABLES"
   ]
  },
  {
   "cell_type": "code",
   "execution_count": null,
   "id": "101ec6c5",
   "metadata": {},
   "outputs": [],
   "source": [
    "#mycursor.execute(\"CREATE TABLE aggtransaction (state VARCHAR(255),year INT,quarter INT,transactiontype VARCHAR(255),transactioncount BIGINT,transactionamount FLOAT)\")\n",
    "\n",
    "for index,row in aggtr.iterrows():\n",
    "    sql=\"INSERT INTO aggtransaction(state,year,quarter,transactiontype,transactioncount,transactionamount) VALUES (%s,%s,%s,%s,%s,%s)\" \n",
    "    mycursor.execute(sql,tuple(row))\n",
    "    mydb.commit()\n"
   ]
  },
  {
   "cell_type": "code",
   "execution_count": null,
   "id": "2ec411b9",
   "metadata": {},
   "outputs": [],
   "source": [
    "\n",
    "for _, row in agguser.iterrows():\n",
    "            insert_query = \"\"\"\n",
    "                INSERT INTO agguser (state, year, quarter, brand, transactioncount, percentageshare)\n",
    "                VALUES (%s, %s, %s, %s, %s, %s)\n",
    "            \"\"\"\n",
    "            mycursor.execute(insert_query, tuple(row))\n",
    "            mydb.commit()\n"
   ]
  },
  {
   "cell_type": "markdown",
   "id": "b8f351c7",
   "metadata": {},
   "source": [
    "MAP TABLES"
   ]
  },
  {
   "cell_type": "code",
   "execution_count": null,
   "id": "ad05c279",
   "metadata": {},
   "outputs": [],
   "source": [
    "create_table_query = \"\"\"\n",
    "            CREATE TABLE maptr (\n",
    "                state VARCHAR(255),\n",
    "                year INT,\n",
    "                quarter INT,\n",
    "                District VARCHAR(255),\n",
    "                transactioncount INT,\n",
    "                transactionamount FLOAT\n",
    "            )\"\"\"\n",
    "        \n",
    "mycursor.execute(create_table_query)"
   ]
  },
  {
   "cell_type": "code",
   "execution_count": null,
   "id": "52472ca3",
   "metadata": {},
   "outputs": [],
   "source": [
    "for _, row in maptr.iterrows():\n",
    "        insert_query = \"\"\"\n",
    "                INSERT INTO maptr (state, year, quarter, District, transactioncount, transactionamount)\n",
    "                VALUES (%s, %s, %s, %s, %s, %s)\n",
    "            \"\"\"\n",
    "        mycursor.execute(insert_query,tuple(row))\n",
    "        mydb.commit()"
   ]
  },
  {
   "cell_type": "code",
   "execution_count": null,
   "id": "f5cb2509",
   "metadata": {},
   "outputs": [],
   "source": [
    "create_table_query = \"\"\"\n",
    "            CREATE TABLE mapuser (\n",
    "                state VARCHAR(255),\n",
    "                year INT,\n",
    "                quarter INT,\n",
    "                District VARCHAR(255),\n",
    "                Registeredusers INT,\n",
    "                Appopens INT\n",
    "            )\n",
    "        \"\"\"\n",
    "mycursor.execute(create_table_query)"
   ]
  },
  {
   "cell_type": "code",
   "execution_count": null,
   "id": "5ad17df7",
   "metadata": {},
   "outputs": [],
   "source": [
    "for _, row in mapuser.iterrows():\n",
    "            insert_query = \"\"\"\n",
    "                INSERT INTO mapuser (state, year, quarter, District, Registeredusers, Appopens)\n",
    "                VALUES (%s, %s, %s, %s, %s, %s)\n",
    "            \"\"\"\n",
    "            mycursor.execute(insert_query,tuple(row))\n",
    "            mydb.commit()"
   ]
  },
  {
   "cell_type": "markdown",
   "id": "627964b6",
   "metadata": {},
   "source": [
    "TOP TABLES"
   ]
  },
  {
   "cell_type": "code",
   "execution_count": null,
   "id": "177fec21",
   "metadata": {},
   "outputs": [],
   "source": [
    "create_table_query = \"\"\"\n",
    "            CREATE TABLE toptransaction (\n",
    "                state VARCHAR(255),\n",
    "                year INT,\n",
    "                quarter INT,\n",
    "                Pincode VARCHAR(255),\n",
    "                transactioncount INT,\n",
    "                transactionamount FLOAT\n",
    "            )\n",
    "        \"\"\"\n",
    "mycursor.execute(create_table_query)\n",
    "\n",
    "        "
   ]
  },
  {
   "cell_type": "code",
   "execution_count": null,
   "id": "497a64d0",
   "metadata": {},
   "outputs": [],
   "source": [
    "for _, row in toptr.iterrows():\n",
    "            insert_query = \"\"\"\n",
    "                INSERT INTO toptransaction (state, year, quarter, Pincode, transactioncount, transactionamount)\n",
    "                VALUES (%s, %s, %s, %s, %s, %s)\n",
    "            \"\"\"\n",
    "            mycursor.execute(insert_query,tuple(row))\n",
    "            mydb.commit()"
   ]
  },
  {
   "cell_type": "code",
   "execution_count": null,
   "id": "2107b4e7",
   "metadata": {},
   "outputs": [],
   "source": [
    "create_table_query = \"\"\"\n",
    "            CREATE TABLE toptrprimecities (\n",
    "                state VARCHAR(255),\n",
    "                year INT,\n",
    "                quarter INT,\n",
    "                Primecities VARCHAR(255),\n",
    "                transactioncount INT,\n",
    "                transactionamount FLOAT\n",
    "            )\n",
    "        \"\"\"\n",
    "mycursor.execute(create_table_query)"
   ]
  },
  {
   "cell_type": "code",
   "execution_count": null,
   "id": "314b6031",
   "metadata": {},
   "outputs": [],
   "source": [
    " for _, row in toptrcity.iterrows():\n",
    "            insert_query = \"\"\"\n",
    "                INSERT INTO toptrprimecities (state, year, quarter, Primecities, transactioncount, transactionamount)\n",
    "                VALUES (%s, %s, %s, %s, %s, %s)\n",
    "            \"\"\"\n",
    "            mycursor.execute(insert_query,tuple(row))\n",
    "            mydb.commit()\n",
    "            "
   ]
  },
  {
   "cell_type": "code",
   "execution_count": null,
   "id": "e8acdbf4",
   "metadata": {},
   "outputs": [],
   "source": [
    "create_table_query = \"\"\"\n",
    "            CREATE TABLE topuser (\n",
    "                state VARCHAR(255),\n",
    "                year INT,\n",
    "                quarter INT,\n",
    "                Pincode VARCHAR(10),\n",
    "                Registeredusers INT\n",
    "            )\n",
    "        \"\"\"\n",
    "mycursor.execute(create_table_query)"
   ]
  },
  {
   "cell_type": "code",
   "execution_count": null,
   "id": "acd21f1e",
   "metadata": {},
   "outputs": [],
   "source": [
    "for _, row in topuser.iterrows():\n",
    "            insert_query = \"\"\"\n",
    "                INSERT INTO topuser (state, year, quarter, Pincode, Registeredusers)\n",
    "                VALUES (%s, %s, %s, %s, %s)\n",
    "            \"\"\"\n",
    "            mycursor.execute(insert_query,tuple(row))\n",
    "            mydb.commit()\n",
    "            "
   ]
  },
  {
   "cell_type": "code",
   "execution_count": null,
   "id": "d608e975",
   "metadata": {},
   "outputs": [],
   "source": [
    "create_table_query = \"\"\"\n",
    "            CREATE TABLE topuserprimecities (\n",
    "                state VARCHAR(255),\n",
    "                year INT,\n",
    "                quarter INT,\n",
    "                Primecities VARCHAR(255),\n",
    "                Registeredusers INT\n",
    "            )\n",
    "        \"\"\"\n",
    "mycursor.execute(create_table_query)"
   ]
  },
  {
   "cell_type": "code",
   "execution_count": null,
   "id": "2d5bc6c7",
   "metadata": {},
   "outputs": [],
   "source": [
    "for _, row in topusercity.iterrows():\n",
    "            insert_query = \"\"\"\n",
    "                INSERT INTO topuserprimecities (state, year, quarter, Primecities, Registeredusers)\n",
    "                VALUES (%s, %s, %s, %s, %s)\n",
    "            \"\"\"\n",
    "            mycursor.execute(insert_query,tuple(row))\n",
    "            mydb.commit()"
   ]
  },
  {
   "cell_type": "code",
   "execution_count": null,
   "id": "2c3e9fad",
   "metadata": {},
   "outputs": [],
   "source": [
    "mycursor.execute(\"show tables\")\n",
    "mycursor.fetchall()"
   ]
  }
 ],
 "metadata": {
  "kernelspec": {
   "display_name": "Python 3 (ipykernel)",
   "language": "python",
   "name": "python3"
  },
  "language_info": {
   "codemirror_mode": {
    "name": "ipython",
    "version": 3
   },
   "file_extension": ".py",
   "mimetype": "text/x-python",
   "name": "python",
   "nbconvert_exporter": "python",
   "pygments_lexer": "ipython3",
   "version": "3.9.13"
  }
 },
 "nbformat": 4,
 "nbformat_minor": 5
}
